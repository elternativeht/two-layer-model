{
 "cells": [
  {
   "cell_type": "code",
   "execution_count": 29,
   "metadata": {
    "scrolled": true
   },
   "outputs": [
    {
     "name": "stdout",
     "output_type": "stream",
     "text": [
      "\n",
      "        Choked nozzle Properties:\n",
      "        -----------------------------------\n",
      "        Stagnation Pressure:   10.000000 MPa\n",
      "        Nozzle Diameter:       0.500000 mm\n",
      "        Nozzle Temperature:    223.736138 K\n",
      "        Nozzle Velocity:       906.108366 m/s\n",
      "        Nozzle Density:        10.035485 kg/m^3\n",
      "        Nozzle mass flow rate: 0.001785 kg/s\n",
      "        -----------------------------------\n",
      "        \n",
      "[1.62422300e-01 1.42319022e+03 7.72395602e-06]\n",
      "\n",
      "        Birch87 Boundary Conditions:\n",
      "        -----------------------------\n",
      "        Notional diameter: 3.135992 mm\n",
      "        Notional Velocity: 1423.190225 m/s\n",
      "        \n",
      "[5.28155637e+02 5.83748829e+00 4.35243577e-02 1.76352031e+03\n",
      " 2.85861937e+02 1.70451453e-01 4.50310558e+02]\n",
      "\n",
      "        Post Mach Disk Properties:\n",
      "        ------------------------------\n",
      "        Post Mach Disk Temperature: 285.861937 K.\n",
      "        Post Mach Disk Density:     0.170451 kg/m^3\n",
      "        Post Mach Disk Velocity:    450.310558 m/s\n",
      "        Post Mach Disk Diameter:    1.738520 mm\n",
      "        Post Mach Disk mass flowrate: 0.000182 kg/s\n",
      "        Post Mach Disk Mach number: 0.452298 \n",
      "        Mach Disk Location:         3.328024 mm\n",
      "        ------------------------------\n",
      "        Post Mach Disk Diameter(T): 1.419874 mm\n",
      "        Post Mach Disk massflow(T): 0.000122   kg/s\n",
      "        \n",
      "[9.52851031e+01 4.61583809e-01 3.58334501e-01 1.18643784e+03\n",
      " 9.15362857e+04 9.78871434e+03]\n",
      "0.0017854528538860327\n",
      "0.00012153530770553883\n",
      "0.0016639175462131364\n",
      "\n",
      "        Mixing Layer Properties:\n",
      "        --------------------------------\n",
      "        Thickness:      0.502970 mm\n",
      "        Pressure:       101325.000000 Pa\n",
      "        Temperature:    95.285103 K\n",
      "        Velocity:       1186.437839 m/s\n",
      "        Mass flow rate: 0.002956 kg/s\n",
      "        He Mass Flow:   0.001664 kg/s\n",
      "        He Fraction:    0.562963\n",
      "        \n"
     ]
    }
   ],
   "source": [
    "#coding:utf-8\n",
    "from scipy.optimize import fsolve\n",
    "import numpy as np\n",
    "from math import pi\n",
    "R = 8.314\n",
    "\n",
    "class Abel_Noble_Gas(object):\n",
    "    def __init__(self,cp,b,M,gamma,diameter=0.5e-3,P0=1.5e7,T0=300.0):\n",
    "        #M in kg/mole\n",
    "        assert(b>0 and M>0 and P0>0 and T0>0)\n",
    "        self.cp = cp\n",
    "        self.gamma = gamma\n",
    "        self.Rg = R/M\n",
    "        self.b = b\n",
    "        self.p0 = P0\n",
    "        self.T0 = T0\n",
    "        self.rho_0 = self.Rg*self.T0/self.p0+self.b\n",
    "        self.rho_0 = 1.0/self.rho_0\n",
    "        self.diameter = diameter\n",
    "        self.NozzleArea = 0.25*pi*(self.diameter**2)\n",
    "        self.MassFlow = 0.0\n",
    "    def PropertyOutput(self):\n",
    "        print(\"Current pressure: \"+str(self.p))\n",
    "        print(\"Current temperature: \"+str(self.T))\n",
    "        print(\"Current density: \"+str(self.rho))\n",
    "    def SolveNozzleProperty(self,isentropic=True):\n",
    "        p0 = self.p0\n",
    "        Rg = self.Rg\n",
    "        T0 = self.T0\n",
    "        rho_0 = self.rho_0\n",
    "        cp = self.cp\n",
    "        b = self.b\n",
    "        gamma = self.gamma\n",
    "        def Eqs(proplist):\n",
    "            nonlocal T0, rho_0,b,cp,gamma,Rg,p0\n",
    "            p1,T1,rho_1,U1 = proplist\n",
    "            return [\n",
    "                cp*T0+b*p0-cp*T1-b*p1-(U1**2)/2,\n",
    "                U1-(1/(1-b*rho_1))*((gamma*Rg*T1)**0.5),\n",
    "                p1*(1-b*rho_1)/rho_1-Rg*T1,\n",
    "                p1*((1-b*rho_1)/rho_1)**(gamma) - p0*((1.0-b*rho_0)/rho_0)**gamma\n",
    "            ]\n",
    "        ResultList = fsolve(Eqs,[0.5*self.p0,0.8*self.T0,0.6*self.rho_0,250.0])\n",
    "        #print(ResultList)\n",
    "        self.p1,self.T1,self.rho_1,self.U1 = ResultList\n",
    "        self.MassFlow = self.U1*self.rho_1*self.NozzleArea\n",
    "        print('''\n",
    "        Choked nozzle Properties:\n",
    "        -----------------------------------\n",
    "        Stagnation Pressure:   %f MPa\n",
    "        Nozzle Diameter:       %f mm\n",
    "        Nozzle Temperature:    %f K\n",
    "        Nozzle Velocity:       %f m/s\n",
    "        Nozzle Density:        %f kg/m^3\n",
    "        Nozzle mass flow rate: %f kg/s\n",
    "        -----------------------------------\n",
    "        ''' %(self.p0/1.0e6,self.diameter*1.0e3,self.T1,self.U1,self.rho_1,self.MassFlow))\n",
    "    def Birch87Solver(self,p_intfy=101325.,T_B2=300.0):\n",
    "        def Eqs_B87(param_list):\n",
    "            nonlocal p_intfy\n",
    "            rho_B2,U_B2,A_B2 = param_list\n",
    "            v_B2 = 1./rho_B2\n",
    "            return [\n",
    "                p_intfy*(v_B2-self.b)-self.Rg*T_B2,\n",
    "                (self.p1-p_intfy)*self.NozzleArea+self.MassFlow*self.U1-A_B2*(U_B2**2)/v_B2,\n",
    "                U_B2*A_B2/v_B2-self.MassFlow\n",
    "            ]\n",
    "        he_init_value = [0.50,500.0,1e-4]\n",
    "        h2_init_value = [8.11977575e-02,2.11509767e+03,1.02122048e-05]\n",
    "        h2_init_value_new = [8.30938830e-02,2.06612138e+03,1.11813534e-03]\n",
    "        resultlist = fsolve(Eqs_B87,h2_init_value_new)\n",
    "        print(resultlist)\n",
    "        self.rho_B2,self.U_B2,self.A_B2 = resultlist\n",
    "        self.Birch87_Diameter = (self.A_B2*4/pi)**0.5\n",
    "        print('''\n",
    "        Birch87 Boundary Conditions:\n",
    "        -----------------------------\n",
    "        Notional diameter: %f mm\n",
    "        Notional Velocity: %f m/s\n",
    "        ''' % (self.Birch87_Diameter*1000,self.U_B2))\n",
    "    def MachDiskSolver(self,p_infty=101325.0):\n",
    "        self.p2a = 0.0\n",
    "        self.T2a = 0.0\n",
    "        self.rho_2a = 0.0\n",
    "        self.U2a = 0.0\n",
    "        self.p2b = p_infty\n",
    "        self.T2b = 0.0\n",
    "        self.rho_2b = 0.0\n",
    "        self.U2b = 0.0\n",
    "        ratio = 0.18\n",
    "        self.MachDiskDiameter = 0.35*((self.p0/p_infty)**0.5)*self.diameter\n",
    "        self.MachDiskCutArea = 0.25*pi*(self.MachDiskDiameter**2)\n",
    "        self.MachDiskLocation = 0.67*((self.p0/p_infty)**0.5)*self.diameter\n",
    "        tempTC = 1.0-(self.gamma+1)*(((self.gamma+1)/(self.gamma-1))**(-0.5))/self.gamma\n",
    "        self.MachDiskDiameter_T = 0.954*self.MachDiskLocation*tempTC**0.5\n",
    "        #print(self.MachDiskLocation)\n",
    "        #print(tempTC)\n",
    "        #print(self.MachDiskDiameter_T)\n",
    "        self.MachDiskCutArea_T = 0.25*pi*(self.MachDiskDiameter_T**2)\n",
    "        if self.p0>5.0e6:\n",
    "            pressurelist = [1.0e6,3.0e6,5.0e6,7.0e6,self.p0]\n",
    "        else:\n",
    "            pressurelist = [5e5,7e5,9e5,1e6,2.0e6,self.p0]\n",
    "        \n",
    "        he_init_value_ = [1.70324882e+03,1.77509048e+01,4.61584098e-02,1.71495072e+03,2.80962928e+02,1.73422070e-01,4.56455155e+02]\n",
    "        h2_init_value_ = [5.07478572e+03,6.63019520e+01,1.84098341e-02,2.58672039e+03,2.89287039e+02,8.42027490e-02,5.65552713e+02]\n",
    "        _init_value_ = h2_init_value_[:]\n",
    "        #_init_value_ = [p_infty*0.5*ratio,self.T0*ratio,0.1*self.rho_0*ratio,130.0*ratio,self.T0*ratio,0.1*self.rho_0*ratio,130.0*ratio]\n",
    "        for cur_p0 in pressurelist:\n",
    "            cur_T0 = self.T0\n",
    "            cur_v0 = self.Rg*cur_T0/cur_p0+self.b\n",
    "            cur_rho0 = 1./cur_v0\n",
    "            def Eq_mach(proplist_):\n",
    "                nonlocal cur_p0,cur_T0,cur_rho0\n",
    "                p2a,T2a,rho_2a,U2a,T2b,rho_2b,U2b = proplist_\n",
    "                v2a =1./rho_2a\n",
    "                v2b = 1./rho_2b\n",
    "                v0 = 1./cur_rho0\n",
    "                return [\n",
    "                    p2a*(v2a-self.b)-self.Rg*T2a,\n",
    "                    self.cp*cur_T0+self.b*cur_p0-self.cp*T2a-self.b*p2a-(U2a**2)/2,\n",
    "                    p2a*(v2a-self.b)**(self.gamma)-cur_p0*(v0-self.b)**(self.gamma),\n",
    "                    U2a/v2a-U2b/v2b,\n",
    "                    self.p2b*(v2b-self.b)-self.Rg*T2b,\n",
    "                    p2a+(U2a**2)/v2a-self.p2b-(U2b**2)/v2b,\n",
    "                    self.cp*T2b+self.b*self.p2b+(U2b**2)/2.-self.cp*cur_T0-self.b*cur_p0   \n",
    "                ]\n",
    "            #init_value_list = [1.70324882e+03,1.77509048e+01,4.61584098e-02,1.71495072e+03,2.80962928e+02,1.73422070e-01,4.56455155e+02]\n",
    "            cur_ans = fsolve(Eq_mach,_init_value_)\n",
    "            if cur_p0 != self.p0:\n",
    "                _init_value_ = cur_ans\n",
    "            else:\n",
    "                print(cur_ans)\n",
    "                self.p2a,self.T2a,self.rho_2a,self.U2a,self.T2b,self.rho_2b,self.U2b = cur_ans\n",
    "                self.MachDiskMassFlow = self.rho_2b*self.U2b*self.MachDiskCutArea\n",
    "                self.MachDiskMassFlow_T = self.rho_2b*self.U2b*self.MachDiskCutArea_T\n",
    "                v2b = 1./self.rho_2b\n",
    "                Vsound = v2b/(v2b-self.b)*(self.gamma*self.Rg*self.T2b)**0.5\n",
    "                self.MachNumber = self.U2b/Vsound\n",
    "                #print(cur_ans)\n",
    "        print('''\n",
    "        Post Mach Disk Properties:\n",
    "        ------------------------------\n",
    "        Post Mach Disk Temperature: %f K.\n",
    "        Post Mach Disk Density:     %f kg/m^3\n",
    "        Post Mach Disk Velocity:    %f m/s\n",
    "        Post Mach Disk Diameter:    %f mm\n",
    "        Post Mach Disk mass flowrate: %f kg/s\n",
    "        Post Mach Disk Mach number: %f \n",
    "        Mach Disk Location:         %f mm\n",
    "        ------------------------------\n",
    "        Post Mach Disk Diameter(T): %f mm\n",
    "        Post Mach Disk massflow(T): %f   kg/s\n",
    "        ''' % (self.T2b,self.rho_2b,self.U2b,self.MachDiskDiameter*1000,self.MachDiskMassFlow,self.MachNumber,self.MachDiskLocation*1000,self.MachDiskDiameter_T*1000,self.MachDiskMassFlow_T))\n",
    "    def SlippingRegionSolver(self,p_infty=101325.):\n",
    "        self.SlippingRegionThickness = 0.30*self.diameter*(self.p0/p_infty)**0.5\n",
    "        self.SlippingRegionArea = pi*(self.MachDiskDiameter/2.+self.SlippingRegionThickness)**2-self.MachDiskCutArea\n",
    "        self.p3 = 101325.\n",
    "        cp_air = 1005.\n",
    "        T_infty_air = 300.\n",
    "        he_init_guess =[240.,0.100,1.2,900.,40000.,101325-40000.]\n",
    "        init_guess = he_init_guess[:]\n",
    "        T_Energy = (self.MassFlow-self.MachDiskMassFlow)*(self.cp*self.T0+self.b*self.p0)\n",
    "        def Eqs_SR(param_list):\n",
    "            nonlocal p_infty,cp_air,T_infty_air,T_Energy\n",
    "            Rg_air = 8314/29.0\n",
    "            T3,rho_he3,rho_air3,U3,p_he3,p_air3 = param_list\n",
    "            v_he3 = 1./rho_he3\n",
    "            v_air3 = 1./rho_air3\n",
    "            return [\n",
    "                p_he3 + p_air3 - self.p3,\n",
    "                p_he3*(v_he3-self.b)-self.Rg*T3,\n",
    "                p_air3*v_air3-Rg_air*T3,\n",
    "                U3*self.SlippingRegionArea/v_he3+self.MachDiskMassFlow-self.MassFlow,\n",
    "                (self.p0-p_infty)*self.NozzleArea+self.MassFlow*self.U1-self.MachDiskMassFlow*self.U2b-(U3**2)*self.SlippingRegionArea*(1/v_he3+1/v_air3),\n",
    "                U3*self.SlippingRegionArea*(self.cp*T3+self.b*p_infty+U3**2/2.)/v_he3+U3*self.SlippingRegionArea*(cp_air*(T3-T_infty_air)+U3**2/2.)/v_air3-T_Energy\n",
    "            ]\n",
    "        solve_result = fsolve(Eqs_SR,init_guess)\n",
    "        self.T3,self.rho_he3,self.rho_air3,self.U3,self.p_he3,self.p_air3 = fsolve(Eqs_SR,init_guess)\n",
    "        self.SlippingRegionHeMassFlow = self.rho_he3*self.U3*self.SlippingRegionArea\n",
    "        self.SlippingRegionAirMassFlow = self.rho_air3*self.U3*self.SlippingRegionArea\n",
    "        self.SlippingRegionTotalMassFlow = self.SlippingRegionHeMassFlow + self.SlippingRegionAirMassFlow\n",
    "        self.SlippingRegionHeMassFraction = self.SlippingRegionHeMassFlow/self.SlippingRegionTotalMassFlow\n",
    "        print('''\n",
    "        Mixing Layer Properties:\n",
    "        --------------------------------\n",
    "        Thickness:      %f mm\n",
    "        Pressure:       %f Pa\n",
    "        Temperature:    %f K\n",
    "        Velocity:       %f m/s\n",
    "        Mass flow rate: %f kg/s\n",
    "        He Mass Flow:   %f kg/s\n",
    "        He Fraction:    %f\n",
    "        ''' %(self.SlippingRegionThickness*1000,p_infty,self.T3,self.U3,self.SlippingRegionTotalMassFlow,self.SlippingRegionHeMassFlow,self.SlippingRegionHeMassFraction))\n",
    "    def SlippingRegionSolverT(self,p_infty=101325.):\n",
    "        temp_cc = (self.p0/p_infty)**((self.gamma-1)/self.gamma)*(1+(self.gamma-1)/2)\n",
    "        self.SlippingRegionThicknessT = 0.135*self.MachDiskLocation*(1+1./temp_cc)\n",
    "        self.SlippingRegionAreaT = pi*(self.MachDiskDiameter_T/2.+self.SlippingRegionThicknessT)**2-self.MachDiskCutArea_T\n",
    "        self.p3 = 101325.\n",
    "        cp_air = 1005.\n",
    "        T_infty_air = 300.\n",
    "        he_init_guess =[240.,0.100,1.2,900.,40000.,101325-40000.]\n",
    "        new_he_init_guess = [9.43562665e+01,4.65699850e-01,3.64927782e-01,1.19400673e+03,9.14533510e+04,9.87164895e+03]\n",
    "        new_h2_init_guess =[1.35619752e+02,1.68657692e-01,1.57330526e-01,1.65748130e+03,9.52078664e+04,6.11713356e+03]\n",
    "        init_guess = new_h2_init_guess[:]\n",
    "        T_Energy = (self.MassFlow-self.MachDiskMassFlow_T)*(self.cp*self.T0+self.b*self.p0)\n",
    "        def Eqs_SR(param_list):\n",
    "            nonlocal p_infty,cp_air,T_infty_air,T_Energy\n",
    "            Rg_air = 8314/29.0\n",
    "            density_air_out = p_infty/(Rg_air*T_infty_air)\n",
    "            T3,rho_he3,rho_air3,U3,p_he3,p_air3 = param_list\n",
    "            #mlayerarea = pi*(self.MachDiskDiameter_T/2.+mlayer_thickness)**2-self.MachDiskCutArea_T\n",
    "            v_he3 = 1./rho_he3\n",
    "            v_air3 = 1./rho_air3\n",
    "            return [\n",
    "                p_he3 + p_air3 - self.p3,\n",
    "                p_he3*(v_he3-self.b)-self.Rg*T3,\n",
    "                p_air3*v_air3-Rg_air*T3,\n",
    "                U3*self.SlippingRegionAreaT/v_he3+self.MachDiskMassFlow_T-self.MassFlow,\n",
    "                (self.p0-p_infty)*self.NozzleArea+self.MassFlow*self.U1-self.MachDiskMassFlow_T*self.U2b-(U3**2)*self.SlippingRegionAreaT*(1/v_he3+1/v_air3),\n",
    "                U3*self.SlippingRegionAreaT*(self.cp*T3+self.b*p_infty+U3**2/2.)/v_he3+U3*self.SlippingRegionAreaT*(cp_air*(T3-T_infty_air)+U3**2/2.)/v_air3-T_Energy\n",
    "                #mlayer_thickness/self.MachDiskLocation-0.135*(1+density_air_out/())\n",
    "            ]\n",
    "        q = fsolve(Eqs_SR,init_guess)\n",
    "        print(q)\n",
    "        self.T3,self.rho_he3,self.rho_air3,self.U3,self.p_he3,self.p_air3 = q\n",
    "        self.SlippingRegionHeMassFlowT = self.rho_he3*self.U3*self.SlippingRegionAreaT\n",
    "        print(self.MassFlow)\n",
    "        print(self.MachDiskMassFlow_T)\n",
    "        print(self.SlippingRegionHeMassFlowT)\n",
    "        self.SlippingRegionAirMassFlowT = self.rho_air3*self.U3*self.SlippingRegionAreaT\n",
    "        self.SlippingRegionTotalMassFlowT = self.SlippingRegionHeMassFlowT + self.SlippingRegionAirMassFlowT\n",
    "        self.SlippingRegionHeMassFractionT = self.SlippingRegionHeMassFlowT/self.SlippingRegionTotalMassFlowT\n",
    "        print('''\n",
    "        Mixing Layer Properties:\n",
    "        --------------------------------\n",
    "        Thickness:      %f mm\n",
    "        Pressure:       %f Pa\n",
    "        Temperature:    %f K\n",
    "        Velocity:       %f m/s\n",
    "        Mass flow rate: %f kg/s\n",
    "        He Mass Flow:   %f kg/s\n",
    "        He Fraction:    %f\n",
    "        ''' %(self.SlippingRegionThicknessT*1000,p_infty,self.T3,self.U3,self.SlippingRegionTotalMassFlowT,self.SlippingRegionHeMassFlowT,self.SlippingRegionHeMassFractionT))\n",
    "\n",
    "Helium = Abel_Noble_Gas(5190.0,2.83e-3,4e-3,5./3,diameter=0.5e-3,P0=1.0e7)\n",
    "Helium.SolveNozzleProperty()\n",
    "Helium.Birch87Solver()\n",
    "Helium.MachDiskSolver()\n",
    "Helium.SlippingRegionSolverT()\n"
   ]
  },
  {
   "cell_type": "code",
   "execution_count": 33,
   "metadata": {},
   "outputs": [],
   "source": [
    "H2_new = Abel_Noble_Gas(14283.0,7.691e-3,2e-3,1.40,diameter=6.35e-3,P0=7.0e7,T0=293.15)"
   ]
  },
  {
   "cell_type": "code",
   "execution_count": 34,
   "metadata": {},
   "outputs": [
    {
     "name": "stdout",
     "output_type": "stream",
     "text": [
      "\n",
      "        Choked nozzle Properties:\n",
      "        -----------------------------------\n",
      "        Stagnation Pressure:   70.000000 MPa\n",
      "        Nozzle Diameter:       6.350000 mm\n",
      "        Nozzle Temperature:    236.647179 K\n",
      "        Nozzle Velocity:       1477.118139 m/s\n",
      "        Nozzle Density:        26.720598 kg/m^3\n",
      "        Nozzle mass flow rate: 1.249968 kg/s\n",
      "        -----------------------------------\n",
      "        \n"
     ]
    }
   ],
   "source": [
    "H2_new.SolveNozzleProperty()"
   ]
  },
  {
   "cell_type": "code",
   "execution_count": 35,
   "metadata": {},
   "outputs": [
    {
     "name": "stdout",
     "output_type": "stream",
     "text": [
      "[8.30938830e-02 2.31280710e+03 6.50414617e-03]\n",
      "\n",
      "        Birch87 Boundary Conditions:\n",
      "        -----------------------------\n",
      "        Notional diameter: 91.001847 mm\n",
      "        Notional Velocity: 2312.807104 m/s\n",
      "        \n"
     ]
    }
   ],
   "source": [
    "H2_new.Birch87Solver(T_B2=293.15)"
   ]
  },
  {
   "cell_type": "code",
   "execution_count": 19,
   "metadata": {},
   "outputs": [
    {
     "name": "stdout",
     "output_type": "stream",
     "text": [
      "[5.72813546e+02 1.03189881e+01 1.33521605e-02 3.02590183e+03\n",
      " 3.20874094e+02 7.59186154e-02 5.32179447e+02]\n",
      "\n",
      "        Post Mach Disk Properties:\n",
      "        ------------------------------\n",
      "        Post Mach Disk Temperature: 320.874094 K.\n",
      "        Post Mach Disk Density:     0.075919 kg/m^3\n",
      "        Post Mach Disk Velocity:    532.179447 m/s\n",
      "        Post Mach Disk Diameter:    58.416090 mm\n",
      "        Post Mach Disk mass flowrate: 0.108283 kg/s\n",
      "        Post Mach Disk Mach number: 0.389209 \n",
      "        Mach Disk Location:         111.825086 mm\n",
      "        ------------------------------\n",
      "        Post Mach Disk Diameter(T): 58.445859 mm\n",
      "        Post Mach Disk massflow(T): 0.108394   kg/s\n",
      "        \n"
     ]
    }
   ],
   "source": [
    "H2_new.MachDiskSolver()"
   ]
  },
  {
   "cell_type": "code",
   "execution_count": 20,
   "metadata": {},
   "outputs": [
    {
     "name": "stdout",
     "output_type": "stream",
     "text": [
      "[1.35669874e+02 1.67077529e-01 1.79339394e-01 1.69092630e+03\n",
      " 9.43495675e+04 6.97543252e+03]\n",
      "1.2499675250711673\n",
      "0.10839362582465577\n",
      "1.1415738992579454\n",
      "\n",
      "        Mixing Layer Properties:\n",
      "        --------------------------------\n",
      "        Thickness:      17.039240 mm\n",
      "        Pressure:       101325.000000 Pa\n",
      "        Temperature:    135.669874 K\n",
      "        Velocity:       1690.926305 m/s\n",
      "        Mass flow rate: 2.366928 kg/s\n",
      "        He Mass Flow:   1.141574 kg/s\n",
      "        He Fraction:    0.482302\n",
      "        \n"
     ]
    }
   ],
   "source": [
    "H2_new.SlippingRegionSolverT()"
   ]
  },
  {
   "cell_type": "code",
   "execution_count": 9,
   "metadata": {},
   "outputs": [
    {
     "name": "stdout",
     "output_type": "stream",
     "text": [
      "[  9.39872647e+01   4.67041387e-01   3.69881880e-01   1.19966215e+03\n",
      "   9.13584674e+04   9.96653256e+03]\n",
      "0.00353418215144\n",
      "0.000239890792485\n",
      "0.00329429135897\n",
      "\n",
      "        Mixing Layer Properties:\n",
      "        --------------------------------\n",
      "        Thickness:      0.692923 mm\n",
      "        Pressure:       101325.000000 Pa\n",
      "        Temperature:    93.987265 K\n",
      "        Velocity:       1199.662152 m/s\n",
      "        Mass flow rate: 0.005903 kg/s\n",
      "        He Mass Flow:   0.003294 kg/s\n",
      "        He Fraction:    0.558046\n",
      "        \n"
     ]
    }
   ],
   "source": [
    "Helium.SlippingRegionSolverT()"
   ]
  },
  {
   "cell_type": "code",
   "execution_count": 2,
   "metadata": {},
   "outputs": [],
   "source": [
    "Hydrogen = Abel_Noble_Gas(14283.0,7.691e-3,2e-3,1.40,diameter=0.5e-3,P0=15e6)"
   ]
  },
  {
   "cell_type": "code",
   "execution_count": 3,
   "metadata": {},
   "outputs": [
    {
     "name": "stdout",
     "output_type": "stream",
     "text": [
      "\n",
      "        Choked nozzle Properties:\n",
      "        -----------------------------------\n",
      "        Stagnation Pressure:   15.000000 MPa\n",
      "        Nozzle Diameter:       0.500000 mm\n",
      "        Nozzle Temperature:    247.575542 K\n",
      "        Nozzle Velocity:       1269.048450 m/s\n",
      "        Nozzle Density:        7.038593 kg/m^3\n",
      "        Nozzle mass flow rate: 0.001754 kg/s\n",
      "        -----------------------------------\n",
      "        \n"
     ]
    }
   ],
   "source": [
    "Hydrogen.SolveNozzleProperty()"
   ]
  },
  {
   "cell_type": "code",
   "execution_count": 4,
   "metadata": {},
   "outputs": [
    {
     "name": "stdout",
     "output_type": "stream",
     "text": [
      "[  8.11977575e-02   2.11509767e+03   1.02122048e-05]\n",
      "\n",
      "        Birch87 Boundary Conditions:\n",
      "        -----------------------------\n",
      "        Notional diameter: 3.605909 mm\n",
      "        Notional Velocity: 2115.097669 m/s\n",
      "        \n"
     ]
    }
   ],
   "source": [
    "Hydrogen.Birch87Solver()"
   ]
  },
  {
   "cell_type": "code",
   "execution_count": 5,
   "metadata": {},
   "outputs": [
    {
     "name": "stdout",
     "output_type": "stream",
     "text": [
      "[  1.27823349e+03   2.06258748e+01   1.49062361e-02   2.86553862e+03\n",
      "   2.98435738e+02   8.16230913e-02   5.23312639e+02]\n",
      "\n",
      "        Post Mach Disk Properties:\n",
      "        ------------------------------\n",
      "        Post Mach Disk Temperature: 298.435738 K.\n",
      "        Post Mach Disk Density:     0.081623 kg/m^3\n",
      "        Post Mach Disk Velocity:    523.312639 m/s\n",
      "        Post Mach Disk Diameter:    2.129244 mm\n",
      "        Post Mach Disk mass flowrate: 0.000152 kg/s\n",
      "        Post Mach Disk Mach number: 0.396834 \n",
      "        Mach Disk Location:         4.075981 mm\n",
      "        ------------------------------\n",
      "        Post Mach Disk Diameter(T): 2.130329 mm\n",
      "        Post Mach Disk massflow(T): 0.000152   kg/s\n",
      "        \n"
     ]
    }
   ],
   "source": [
    "Hydrogen.MachDiskSolver()"
   ]
  },
  {
   "cell_type": "code",
   "execution_count": 6,
   "metadata": {},
   "outputs": [
    {
     "name": "stdout",
     "output_type": "stream",
     "text": [
      "\n",
      "        Mixing Layer Properties:\n",
      "        --------------------------------\n",
      "        Thickness:      1.825066 mm\n",
      "        Pressure:       101325.000000 Pa\n",
      "        Temperature:    232.254976 K\n",
      "        Velocity:       808.916142 m/s\n",
      "        Mass flow rate: 0.006269 kg/s\n",
      "        He Mass Flow:   0.001602 kg/s\n",
      "        He Fraction:    0.255486\n",
      "        \n"
     ]
    }
   ],
   "source": [
    "Hydrogen.SlippingRegionSolver()"
   ]
  },
  {
   "cell_type": "code",
   "execution_count": 7,
   "metadata": {},
   "outputs": [
    {
     "name": "stdout",
     "output_type": "stream",
     "text": [
      "[  1.36174764e+02   1.68074463e-01   1.55187755e-01   1.64633838e+03\n",
      "   9.52664862e+04   6.05851384e+03]\n",
      "0.00175385617689\n",
      "0.000152250036955\n",
      "0.00160160613993\n",
      "\n",
      "        Mixing Layer Properties:\n",
      "        --------------------------------\n",
      "        Thickness:      0.660228 mm\n",
      "        Pressure:       101325.000000 Pa\n",
      "        Temperature:    136.174764 K\n",
      "        Velocity:       1646.338385 m/s\n",
      "        Mass flow rate: 0.003080 kg/s\n",
      "        He Mass Flow:   0.001602 kg/s\n",
      "        He Fraction:    0.519932\n",
      "        \n"
     ]
    }
   ],
   "source": [
    "Hydrogen.SlippingRegionSolverT()"
   ]
  }
 ],
 "metadata": {
  "kernelspec": {
   "display_name": "Python 3",
   "language": "python",
   "name": "python3"
  },
  "language_info": {
   "codemirror_mode": {
    "name": "ipython",
    "version": 3
   },
   "file_extension": ".py",
   "mimetype": "text/x-python",
   "name": "python",
   "nbconvert_exporter": "python",
   "pygments_lexer": "ipython3",
   "version": "3.6.5"
  }
 },
 "nbformat": 4,
 "nbformat_minor": 2
}
